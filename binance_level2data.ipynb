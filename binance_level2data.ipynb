{
  "nbformat": 4,
  "nbformat_minor": 0,
  "metadata": {
    "colab": {
      "name": "binance_level2data.ipynb",
      "provenance": [],
      "collapsed_sections": [],
      "toc_visible": true,
      "authorship_tag": "ABX9TyO9CH1pT9Z+AvI9byAFt01Z",
      "include_colab_link": true
    },
    "kernelspec": {
      "name": "python3",
      "display_name": "Python 3"
    },
    "language_info": {
      "name": "python"
    }
  },
  "cells": [
    {
      "cell_type": "markdown",
      "metadata": {
        "id": "view-in-github",
        "colab_type": "text"
      },
      "source": [
        "<a href=\"https://colab.research.google.com/github/giomorakis/finance_python/blob/main/binance_level2data.ipynb\" target=\"_parent\"><img src=\"https://colab.research.google.com/assets/colab-badge.svg\" alt=\"Open In Colab\"/></a>"
      ]
    },
    {
      "cell_type": "markdown",
      "metadata": {
        "id": "v0578GUuFAr1"
      },
      "source": [
        "# Exploring the Market Micro-Structure of the Criptocurrency Excahge: \n",
        "## Visualizing the Order Book with the Binance API in Python\n",
        "\n",
        "Exploring the live order book data on Binance through its official API using Python (main code for interacting with the API comes from the article by [Louis Tiao](https://tiao.io/post/exploring-the-binance-cryptocurrency-exchange-api-orderbook/)). Here we directly interact with the API endpoints and explicitly make the low-level HTTP requests ourselves. We will be making the requests using the requests library. Thereafter, we will process the results with **pandas**, and visualize them with **matplotlib** and **seaborn**.\n",
        "\n",
        "The limit order book is a record of unexecuted orders to buy (or sell) a given quantity of stock at or below (above) a specified price. The orders on the bid and ask side represent willingness to buy and to sell, respectively, where the former are arranged from highest (best price) to lowest and latter, from the lowest (best price) to highest. "
      ]
    },
    {
      "cell_type": "markdown",
      "metadata": {
        "id": "49b0bTgu81Tz"
      },
      "source": [
        "First step is to import the necessary Dependencies:"
      ]
    },
    {
      "cell_type": "code",
      "metadata": {
        "id": "Hg8NkTFQDkqu"
      },
      "source": [
        "# Import Dependencies\n",
        "import numpy as np\n",
        "import requests\n",
        "import pandas as pd\n",
        "import matplotlib.pyplot as plt\n",
        "import seaborn as sns\n",
        "from datetime import datetime\n",
        "from google.colab import data_table\n"
      ],
      "execution_count": 18,
      "outputs": []
    },
    {
      "cell_type": "markdown",
      "metadata": {
        "id": "HVRNJj_h7-lv"
      },
      "source": [
        "We make the GET request for the symbol ```ETHBUSD``` from the ```/depth``` endpoint and record the time of the request:\n",
        "\n"
      ]
    },
    {
      "cell_type": "code",
      "metadata": {
        "id": "gI68wXNVDwGC"
      },
      "source": [
        "# To make a GET request for the symbol ETHBUSD from the /depth endpoint:\n",
        "r = requests.get(\"https://api.binance.com/api/v3/depth\",\n",
        "                 params=dict(symbol=\"ETHBUSD\"))\n",
        "now = datetime.now()\n",
        "results = r.json()\n",
        "dt_string = now.strftime(\"%d/%m/%Y %H:%M:%S\")"
      ],
      "execution_count": 19,
      "outputs": []
    },
    {
      "cell_type": "markdown",
      "metadata": {
        "id": "NhqYyckv9LdY"
      },
      "source": [
        "Then procceed to load the buy and sell orders, indicated as _bids_ and _asks_ respectively, into a DataFrame:"
      ]
    },
    {
      "cell_type": "code",
      "metadata": {
        "id": "ua7VbfFJD0FQ"
      },
      "source": [
        "# Load the buy and sell orders, or bids and asks, into respective DataFrames:\n",
        "\n",
        "frames = {side: pd.DataFrame(data=results[side], columns=[\"price\", \"quantity\"],\n",
        "                             dtype=float)\n",
        "          for side in [\"bids\", \"asks\"]}"
      ],
      "execution_count": 20,
      "outputs": []
    },
    {
      "cell_type": "markdown",
      "metadata": {
        "id": "ULMKqxVO9izd"
      },
      "source": [
        "Concatenate the DataFrames containing bids and asks into one big frame:"
      ]
    },
    {
      "cell_type": "code",
      "metadata": {
        "id": "narr4ySyD_T8"
      },
      "source": [
        "# Concatenate the DataFrames containing bids and asks into one big frame:\n",
        "\n",
        "frames_list = [frames[side].assign(side=side) for side in frames]\n",
        "data = pd.concat(frames_list, axis=\"index\", \n",
        "                 ignore_index=True, sort=True)\n",
        "data[\"date\"] = now"
      ],
      "execution_count": 21,
      "outputs": []
    },
    {
      "cell_type": "markdown",
      "metadata": {
        "id": "qTJVJ52Q9tvg"
      },
      "source": [
        "In order to have a first glance of the database we get a statistical summary of the price levels in the bids and asks:"
      ]
    },
    {
      "cell_type": "code",
      "metadata": {
        "colab": {
          "base_uri": "https://localhost:8080/",
          "height": 136
        },
        "id": "21sTpl77EUss",
        "outputId": "28807353-20d0-4c1e-b4f5-2a44363e7e1b"
      },
      "source": [
        "# Get a statistical summary of the price levels in the bids and asks:\n",
        "\n",
        "price_summary = data.groupby(\"side\").price.describe()\n",
        "price_summary"
      ],
      "execution_count": 22,
      "outputs": [
        {
          "output_type": "execute_result",
          "data": {
            "text/html": [
              "<div>\n",
              "<style scoped>\n",
              "    .dataframe tbody tr th:only-of-type {\n",
              "        vertical-align: middle;\n",
              "    }\n",
              "\n",
              "    .dataframe tbody tr th {\n",
              "        vertical-align: top;\n",
              "    }\n",
              "\n",
              "    .dataframe thead th {\n",
              "        text-align: right;\n",
              "    }\n",
              "</style>\n",
              "<table border=\"1\" class=\"dataframe\">\n",
              "  <thead>\n",
              "    <tr style=\"text-align: right;\">\n",
              "      <th></th>\n",
              "      <th>count</th>\n",
              "      <th>mean</th>\n",
              "      <th>std</th>\n",
              "      <th>min</th>\n",
              "      <th>25%</th>\n",
              "      <th>50%</th>\n",
              "      <th>75%</th>\n",
              "      <th>max</th>\n",
              "    </tr>\n",
              "    <tr>\n",
              "      <th>side</th>\n",
              "      <th></th>\n",
              "      <th></th>\n",
              "      <th></th>\n",
              "      <th></th>\n",
              "      <th></th>\n",
              "      <th></th>\n",
              "      <th></th>\n",
              "      <th></th>\n",
              "    </tr>\n",
              "  </thead>\n",
              "  <tbody>\n",
              "    <tr>\n",
              "      <th>asks</th>\n",
              "      <td>100.0</td>\n",
              "      <td>2690.4429</td>\n",
              "      <td>1.731451</td>\n",
              "      <td>2687.14</td>\n",
              "      <td>2688.8850</td>\n",
              "      <td>2690.655</td>\n",
              "      <td>2691.8525</td>\n",
              "      <td>2693.34</td>\n",
              "    </tr>\n",
              "    <tr>\n",
              "      <th>bids</th>\n",
              "      <td>100.0</td>\n",
              "      <td>2684.0473</td>\n",
              "      <td>1.513919</td>\n",
              "      <td>2681.89</td>\n",
              "      <td>2682.7025</td>\n",
              "      <td>2683.775</td>\n",
              "      <td>2685.3225</td>\n",
              "      <td>2687.13</td>\n",
              "    </tr>\n",
              "  </tbody>\n",
              "</table>\n",
              "</div>"
            ],
            "text/plain": [
              "      count       mean       std  ...       50%        75%      max\n",
              "side                              ...                              \n",
              "asks  100.0  2690.4429  1.731451  ...  2690.655  2691.8525  2693.34\n",
              "bids  100.0  2684.0473  1.513919  ...  2683.775  2685.3225  2687.13\n",
              "\n",
              "[2 rows x 8 columns]"
            ]
          },
          "metadata": {
            "tags": []
          },
          "execution_count": 22
        }
      ]
    },
    {
      "cell_type": "markdown",
      "metadata": {
        "id": "ECt97ps39_Cw"
      },
      "source": [
        "It is worth noticing that the Binance API can only provide the top 100 entries in the order book. Since the order book is sorted by best prices, this indicates that we obtain the lowest 100 asks and the highest 100 bids entries. We can check this by looking at the ```count``` column."
      ]
    },
    {
      "cell_type": "code",
      "metadata": {
        "colab": {
          "base_uri": "https://localhost:8080/",
          "height": 298
        },
        "id": "v5xT6vOczJAm",
        "outputId": "eb090390-1665-4b8e-8f5c-e5ac0ce50774"
      },
      "source": [
        "# Observe the Structure of the Order Book\n",
        "\n",
        "#data_table.DataTable( data, num_rows_per_page=10)\n",
        "bid_side = data.iloc[:,[0,1]][data['side'] == 'bids'].rename(columns = {'price':'price_bid', 'quantity':'quantity_bid'})\n",
        "bid_side = bid_side.sort_index(axis = 1, ascending=False)\n",
        "ask_side = data.iloc[:,[0,1]][data['side'] == 'asks'].rename(columns = {'price':'price_ask', 'quantity':'quantity_ask'}).reset_index(drop=True)\n",
        "order_book = pd.concat([bid_side, ask_side], axis= 1)\n",
        "data_table.DataTable(order_book, num_rows_per_page=10, min_width= '700px')"
      ],
      "execution_count": 23,
      "outputs": [
        {
          "output_type": "execute_result",
          "data": {
            "application/vnd.google.colaboratory.module+javascript": "\n      import \"https://ssl.gstatic.com/colaboratory/data_table/a6224c040fa35dcf/data_table.js\";\n\n      window.createDataTable({\n        data: [[{\n            'v': 0,\n            'f': \"0\",\n        },\n{\n            'v': 25.69968,\n            'f': \"25.69968\",\n        },\n{\n            'v': 2687.13,\n            'f': \"2687.13\",\n        },\n{\n            'v': 2687.14,\n            'f': \"2687.14\",\n        },\n{\n            'v': 0.016,\n            'f': \"0.016\",\n        }],\n [{\n            'v': 1,\n            'f': \"1\",\n        },\n{\n            'v': 0.51932,\n            'f': \"0.51932\",\n        },\n{\n            'v': 2686.85,\n            'f': \"2686.85\",\n        },\n{\n            'v': 2687.53,\n            'f': \"2687.53\",\n        },\n{\n            'v': 1.11643,\n            'f': \"1.11643\",\n        }],\n [{\n            'v': 2,\n            'f': \"2\",\n        },\n{\n            'v': 2.37207,\n            'f': \"2.37207\",\n        },\n{\n            'v': 2686.84,\n            'f': \"2686.84\",\n        },\n{\n            'v': 2687.54,\n            'f': \"2687.54\",\n        },\n{\n            'v': 0.4,\n            'f': \"0.4\",\n        }],\n [{\n            'v': 3,\n            'f': \"3\",\n        },\n{\n            'v': 1.11643,\n            'f': \"1.11643\",\n        },\n{\n            'v': 2686.83,\n            'f': \"2686.83\",\n        },\n{\n            'v': 2687.66,\n            'f': \"2687.66\",\n        },\n{\n            'v': 0.30606,\n            'f': \"0.30606\",\n        }],\n [{\n            'v': 4,\n            'f': \"4\",\n        },\n{\n            'v': 2.79073,\n            'f': \"2.79073\",\n        },\n{\n            'v': 2686.79,\n            'f': \"2686.79\",\n        },\n{\n            'v': 2687.67,\n            'f': \"2687.67\",\n        },\n{\n            'v': 0.58298,\n            'f': \"0.58298\",\n        }],\n [{\n            'v': 5,\n            'f': \"5\",\n        },\n{\n            'v': 1.19086,\n            'f': \"1.19086\",\n        },\n{\n            'v': 2686.77,\n            'f': \"2686.77\",\n        },\n{\n            'v': 2687.84,\n            'f': \"2687.84\",\n        },\n{\n            'v': 0.36738,\n            'f': \"0.36738\",\n        }],\n [{\n            'v': 6,\n            'f': \"6\",\n        },\n{\n            'v': 0.9304,\n            'f': \"0.9304\",\n        },\n{\n            'v': 2686.6,\n            'f': \"2686.6\",\n        },\n{\n            'v': 2687.85,\n            'f': \"2687.85\",\n        },\n{\n            'v': 5.0,\n            'f': \"5.0\",\n        }],\n [{\n            'v': 7,\n            'f': \"7\",\n        },\n{\n            'v': 2.7911,\n            'f': \"2.7911\",\n        },\n{\n            'v': 2686.42,\n            'f': \"2686.42\",\n        },\n{\n            'v': 2687.95,\n            'f': \"2687.95\",\n        },\n{\n            'v': 0.2,\n            'f': \"0.2\",\n        }],\n [{\n            'v': 8,\n            'f': \"8\",\n        },\n{\n            'v': 3.45607,\n            'f': \"3.45607\",\n        },\n{\n            'v': 2686.3,\n            'f': \"2686.3\",\n        },\n{\n            'v': 2687.96,\n            'f': \"2687.96\",\n        },\n{\n            'v': 4.0,\n            'f': \"4.0\",\n        }],\n [{\n            'v': 9,\n            'f': \"9\",\n        },\n{\n            'v': 2.03815,\n            'f': \"2.03815\",\n        },\n{\n            'v': 2686.29,\n            'f': \"2686.29\",\n        },\n{\n            'v': 2687.97,\n            'f': \"2687.97\",\n        },\n{\n            'v': 1.99086,\n            'f': \"1.99086\",\n        }],\n [{\n            'v': 10,\n            'f': \"10\",\n        },\n{\n            'v': 0.2,\n            'f': \"0.2\",\n        },\n{\n            'v': 2686.24,\n            'f': \"2686.24\",\n        },\n{\n            'v': 2688.01,\n            'f': \"2688.01\",\n        },\n{\n            'v': 0.04299,\n            'f': \"0.04299\",\n        }],\n [{\n            'v': 11,\n            'f': \"11\",\n        },\n{\n            'v': 1.0,\n            'f': \"1.0\",\n        },\n{\n            'v': 2686.18,\n            'f': \"2686.18\",\n        },\n{\n            'v': 2688.08,\n            'f': \"2688.08\",\n        },\n{\n            'v': 2.79135,\n            'f': \"2.79135\",\n        }],\n [{\n            'v': 12,\n            'f': \"12\",\n        },\n{\n            'v': 4.0,\n            'f': \"4.0\",\n        },\n{\n            'v': 2686.17,\n            'f': \"2686.17\",\n        },\n{\n            'v': 2688.21,\n            'f': \"2688.21\",\n        },\n{\n            'v': 1.0,\n            'f': \"1.0\",\n        }],\n [{\n            'v': 13,\n            'f': \"13\",\n        },\n{\n            'v': 5.4,\n            'f': \"5.4\",\n        },\n{\n            'v': 2685.97,\n            'f': \"2685.97\",\n        },\n{\n            'v': 2688.27,\n            'f': \"2688.27\",\n        },\n{\n            'v': 2.13284,\n            'f': \"2.13284\",\n        }],\n [{\n            'v': 14,\n            'f': \"14\",\n        },\n{\n            'v': 0.00748,\n            'f': \"0.00748\",\n        },\n{\n            'v': 2685.9,\n            'f': \"2685.9\",\n        },\n{\n            'v': 2688.28,\n            'f': \"2688.28\",\n        },\n{\n            'v': 0.49533,\n            'f': \"0.49533\",\n        }],\n [{\n            'v': 15,\n            'f': \"15\",\n        },\n{\n            'v': 0.71684,\n            'f': \"0.71684\",\n        },\n{\n            'v': 2685.89,\n            'f': \"2685.89\",\n        },\n{\n            'v': 2688.32,\n            'f': \"2688.32\",\n        },\n{\n            'v': 3.43317,\n            'f': \"3.43317\",\n        }],\n [{\n            'v': 16,\n            'f': \"16\",\n        },\n{\n            'v': 3.59758,\n            'f': \"3.59758\",\n        },\n{\n            'v': 2685.88,\n            'f': \"2685.88\",\n        },\n{\n            'v': 2688.45,\n            'f': \"2688.45\",\n        },\n{\n            'v': 6.7413,\n            'f': \"6.7413\",\n        }],\n [{\n            'v': 17,\n            'f': \"17\",\n        },\n{\n            'v': 2.65893,\n            'f': \"2.65893\",\n        },\n{\n            'v': 2685.78,\n            'f': \"2685.78\",\n        },\n{\n            'v': 2688.49,\n            'f': \"2688.49\",\n        },\n{\n            'v': 4.36766,\n            'f': \"4.36766\",\n        }],\n [{\n            'v': 18,\n            'f': \"18\",\n        },\n{\n            'v': 6.0,\n            'f': \"6.0\",\n        },\n{\n            'v': 2685.72,\n            'f': \"2685.72\",\n        },\n{\n            'v': 2688.55,\n            'f': \"2688.55\",\n        },\n{\n            'v': 6.0,\n            'f': \"6.0\",\n        }],\n [{\n            'v': 19,\n            'f': \"19\",\n        },\n{\n            'v': 1.0,\n            'f': \"1.0\",\n        },\n{\n            'v': 2685.67,\n            'f': \"2685.67\",\n        },\n{\n            'v': 2688.56,\n            'f': \"2688.56\",\n        },\n{\n            'v': 2.0,\n            'f': \"2.0\",\n        }],\n [{\n            'v': 20,\n            'f': \"20\",\n        },\n{\n            'v': 2.0,\n            'f': \"2.0\",\n        },\n{\n            'v': 2685.63,\n            'f': \"2685.63\",\n        },\n{\n            'v': 2688.62,\n            'f': \"2688.62\",\n        },\n{\n            'v': 0.37223,\n            'f': \"0.37223\",\n        }],\n [{\n            'v': 21,\n            'f': \"21\",\n        },\n{\n            'v': 0.4,\n            'f': \"0.4\",\n        },\n{\n            'v': 2685.57,\n            'f': \"2685.57\",\n        },\n{\n            'v': 2688.7,\n            'f': \"2688.7\",\n        },\n{\n            'v': 4.54393,\n            'f': \"4.54393\",\n        }],\n [{\n            'v': 22,\n            'f': \"22\",\n        },\n{\n            'v': 4.0,\n            'f': \"4.0\",\n        },\n{\n            'v': 2685.48,\n            'f': \"2685.48\",\n        },\n{\n            'v': 2688.72,\n            'f': \"2688.72\",\n        },\n{\n            'v': 5.89999,\n            'f': \"5.89999\",\n        }],\n [{\n            'v': 23,\n            'f': \"23\",\n        },\n{\n            'v': 1.0709,\n            'f': \"1.0709\",\n        },\n{\n            'v': 2685.43,\n            'f': \"2685.43\",\n        },\n{\n            'v': 2688.73,\n            'f': \"2688.73\",\n        },\n{\n            'v': 0.38849,\n            'f': \"0.38849\",\n        }],\n [{\n            'v': 24,\n            'f': \"24\",\n        },\n{\n            'v': 2.00657,\n            'f': \"2.00657\",\n        },\n{\n            'v': 2685.33,\n            'f': \"2685.33\",\n        },\n{\n            'v': 2688.81,\n            'f': \"2688.81\",\n        },\n{\n            'v': 0.86131,\n            'f': \"0.86131\",\n        }],\n [{\n            'v': 25,\n            'f': \"25\",\n        },\n{\n            'v': 0.06,\n            'f': \"0.06\",\n        },\n{\n            'v': 2685.32,\n            'f': \"2685.32\",\n        },\n{\n            'v': 2688.91,\n            'f': \"2688.91\",\n        },\n{\n            'v': 7.1566,\n            'f': \"7.1566\",\n        }],\n [{\n            'v': 26,\n            'f': \"26\",\n        },\n{\n            'v': 0.83519,\n            'f': \"0.83519\",\n        },\n{\n            'v': 2685.31,\n            'f': \"2685.31\",\n        },\n{\n            'v': 2688.98,\n            'f': \"2688.98\",\n        },\n{\n            'v': 2.3807,\n            'f': \"2.3807\",\n        }],\n [{\n            'v': 27,\n            'f': \"27\",\n        },\n{\n            'v': 0.06,\n            'f': \"0.06\",\n        },\n{\n            'v': 2685.3,\n            'f': \"2685.3\",\n        },\n{\n            'v': 2689.0,\n            'f': \"2689.0\",\n        },\n{\n            'v': 4.0,\n            'f': \"4.0\",\n        }],\n [{\n            'v': 28,\n            'f': \"28\",\n        },\n{\n            'v': 0.4,\n            'f': \"0.4\",\n        },\n{\n            'v': 2685.29,\n            'f': \"2685.29\",\n        },\n{\n            'v': 2689.05,\n            'f': \"2689.05\",\n        },\n{\n            'v': 15.53057,\n            'f': \"15.53057\",\n        }],\n [{\n            'v': 29,\n            'f': \"29\",\n        },\n{\n            'v': 4.6,\n            'f': \"4.6\",\n        },\n{\n            'v': 2685.28,\n            'f': \"2685.28\",\n        },\n{\n            'v': 2689.08,\n            'f': \"2689.08\",\n        },\n{\n            'v': 5.50315,\n            'f': \"5.50315\",\n        }],\n [{\n            'v': 30,\n            'f': \"30\",\n        },\n{\n            'v': 0.47804,\n            'f': \"0.47804\",\n        },\n{\n            'v': 2685.05,\n            'f': \"2685.05\",\n        },\n{\n            'v': 2689.16,\n            'f': \"2689.16\",\n        },\n{\n            'v': 2.39999,\n            'f': \"2.39999\",\n        }],\n [{\n            'v': 31,\n            'f': \"31\",\n        },\n{\n            'v': 2.44249,\n            'f': \"2.44249\",\n        },\n{\n            'v': 2684.98,\n            'f': \"2684.98\",\n        },\n{\n            'v': 2689.28,\n            'f': \"2689.28\",\n        },\n{\n            'v': 0.01106,\n            'f': \"0.01106\",\n        }],\n [{\n            'v': 32,\n            'f': \"32\",\n        },\n{\n            'v': 0.36776,\n            'f': \"0.36776\",\n        },\n{\n            'v': 2684.84,\n            'f': \"2684.84\",\n        },\n{\n            'v': 2689.38,\n            'f': \"2689.38\",\n        },\n{\n            'v': 0.016,\n            'f': \"0.016\",\n        }],\n [{\n            'v': 33,\n            'f': \"33\",\n        },\n{\n            'v': 2.78476,\n            'f': \"2.78476\",\n        },\n{\n            'v': 2684.7,\n            'f': \"2684.7\",\n        },\n{\n            'v': 2689.4,\n            'f': \"2689.4\",\n        },\n{\n            'v': 3.0,\n            'f': \"3.0\",\n        }],\n [{\n            'v': 34,\n            'f': \"34\",\n        },\n{\n            'v': 15.62333,\n            'f': \"15.62333\",\n        },\n{\n            'v': 2684.61,\n            'f': \"2684.61\",\n        },\n{\n            'v': 2689.61,\n            'f': \"2689.61\",\n        },\n{\n            'v': 3.0,\n            'f': \"3.0\",\n        }],\n [{\n            'v': 35,\n            'f': \"35\",\n        },\n{\n            'v': 0.51417,\n            'f': \"0.51417\",\n        },\n{\n            'v': 2684.55,\n            'f': \"2684.55\",\n        },\n{\n            'v': 2689.67,\n            'f': \"2689.67\",\n        },\n{\n            'v': 0.5,\n            'f': \"0.5\",\n        }],\n [{\n            'v': 36,\n            'f': \"36\",\n        },\n{\n            'v': 4.43909,\n            'f': \"4.43909\",\n        },\n{\n            'v': 2684.32,\n            'f': \"2684.32\",\n        },\n{\n            'v': 2689.68,\n            'f': \"2689.68\",\n        },\n{\n            'v': 5.94,\n            'f': \"5.94\",\n        }],\n [{\n            'v': 37,\n            'f': \"37\",\n        },\n{\n            'v': 6.746,\n            'f': \"6.746\",\n        },\n{\n            'v': 2684.31,\n            'f': \"2684.31\",\n        },\n{\n            'v': 2689.97,\n            'f': \"2689.97\",\n        },\n{\n            'v': 0.5055,\n            'f': \"0.5055\",\n        }],\n [{\n            'v': 38,\n            'f': \"38\",\n        },\n{\n            'v': 3.0,\n            'f': \"3.0\",\n        },\n{\n            'v': 2684.29,\n            'f': \"2684.29\",\n        },\n{\n            'v': 2689.98,\n            'f': \"2689.98\",\n        },\n{\n            'v': 2.39999,\n            'f': \"2.39999\",\n        }],\n [{\n            'v': 39,\n            'f': \"39\",\n        },\n{\n            'v': 0.0555,\n            'f': \"0.0555\",\n        },\n{\n            'v': 2684.28,\n            'f': \"2684.28\",\n        },\n{\n            'v': 2689.99,\n            'f': \"2689.99\",\n        },\n{\n            'v': 4.07565,\n            'f': \"4.07565\",\n        }],\n [{\n            'v': 40,\n            'f': \"40\",\n        },\n{\n            'v': 0.00826,\n            'f': \"0.00826\",\n        },\n{\n            'v': 2684.27,\n            'f': \"2684.27\",\n        },\n{\n            'v': 2690.0,\n            'f': \"2690.0\",\n        },\n{\n            'v': 0.02182,\n            'f': \"0.02182\",\n        }],\n [{\n            'v': 41,\n            'f': \"41\",\n        },\n{\n            'v': 2.41379,\n            'f': \"2.41379\",\n        },\n{\n            'v': 2684.25,\n            'f': \"2684.25\",\n        },\n{\n            'v': 2690.04,\n            'f': \"2690.04\",\n        },\n{\n            'v': 2.39999,\n            'f': \"2.39999\",\n        }],\n [{\n            'v': 42,\n            'f': \"42\",\n        },\n{\n            'v': 0.8,\n            'f': \"0.8\",\n        },\n{\n            'v': 2684.2,\n            'f': \"2684.2\",\n        },\n{\n            'v': 2690.09,\n            'f': \"2690.09\",\n        },\n{\n            'v': 7.02431,\n            'f': \"7.02431\",\n        }],\n [{\n            'v': 43,\n            'f': \"43\",\n        },\n{\n            'v': 0.12108,\n            'f': \"0.12108\",\n        },\n{\n            'v': 2684.16,\n            'f': \"2684.16\",\n        },\n{\n            'v': 2690.2,\n            'f': \"2690.2\",\n        },\n{\n            'v': 2.39999,\n            'f': \"2.39999\",\n        }],\n [{\n            'v': 44,\n            'f': \"44\",\n        },\n{\n            'v': 0.3885,\n            'f': \"0.3885\",\n        },\n{\n            'v': 2684.05,\n            'f': \"2684.05\",\n        },\n{\n            'v': 2690.39,\n            'f': \"2690.39\",\n        },\n{\n            'v': 2.46313,\n            'f': \"2.46313\",\n        }],\n [{\n            'v': 45,\n            'f': \"45\",\n        },\n{\n            'v': 0.126,\n            'f': \"0.126\",\n        },\n{\n            'v': 2684.0,\n            'f': \"2684.0\",\n        },\n{\n            'v': 2690.49,\n            'f': \"2690.49\",\n        },\n{\n            'v': 1.74755,\n            'f': \"1.74755\",\n        }],\n [{\n            'v': 46,\n            'f': \"46\",\n        },\n{\n            'v': 5.0,\n            'f': \"5.0\",\n        },\n{\n            'v': 2683.99,\n            'f': \"2683.99\",\n        },\n{\n            'v': 2690.5,\n            'f': \"2690.5\",\n        },\n{\n            'v': 4.4,\n            'f': \"4.4\",\n        }],\n [{\n            'v': 47,\n            'f': \"47\",\n        },\n{\n            'v': 2.13455,\n            'f': \"2.13455\",\n        },\n{\n            'v': 2683.96,\n            'f': \"2683.96\",\n        },\n{\n            'v': 2690.53,\n            'f': \"2690.53\",\n        },\n{\n            'v': 4.14182,\n            'f': \"4.14182\",\n        }],\n [{\n            'v': 48,\n            'f': \"48\",\n        },\n{\n            'v': 0.05,\n            'f': \"0.05\",\n        },\n{\n            'v': 2683.8,\n            'f': \"2683.8\",\n        },\n{\n            'v': 2690.54,\n            'f': \"2690.54\",\n        },\n{\n            'v': 0.05,\n            'f': \"0.05\",\n        }],\n [{\n            'v': 49,\n            'f': \"49\",\n        },\n{\n            'v': 0.03,\n            'f': \"0.03\",\n        },\n{\n            'v': 2683.78,\n            'f': \"2683.78\",\n        },\n{\n            'v': 2690.63,\n            'f': \"2690.63\",\n        },\n{\n            'v': 4.0,\n            'f': \"4.0\",\n        }],\n [{\n            'v': 50,\n            'f': \"50\",\n        },\n{\n            'v': 2.39999,\n            'f': \"2.39999\",\n        },\n{\n            'v': 2683.77,\n            'f': \"2683.77\",\n        },\n{\n            'v': 2690.68,\n            'f': \"2690.68\",\n        },\n{\n            'v': 2.40744,\n            'f': \"2.40744\",\n        }],\n [{\n            'v': 51,\n            'f': \"51\",\n        },\n{\n            'v': 2.53055,\n            'f': \"2.53055\",\n        },\n{\n            'v': 2683.76,\n            'f': \"2683.76\",\n        },\n{\n            'v': 2690.74,\n            'f': \"2690.74\",\n        },\n{\n            'v': 0.75,\n            'f': \"0.75\",\n        }],\n [{\n            'v': 52,\n            'f': \"52\",\n        },\n{\n            'v': 2.39999,\n            'f': \"2.39999\",\n        },\n{\n            'v': 2683.61,\n            'f': \"2683.61\",\n        },\n{\n            'v': 2690.78,\n            'f': \"2690.78\",\n        },\n{\n            'v': 3.0,\n            'f': \"3.0\",\n        }],\n [{\n            'v': 53,\n            'f': \"53\",\n        },\n{\n            'v': 0.37449,\n            'f': \"0.37449\",\n        },\n{\n            'v': 2683.58,\n            'f': \"2683.58\",\n        },\n{\n            'v': 2690.81,\n            'f': \"2690.81\",\n        },\n{\n            'v': 0.005,\n            'f': \"0.005\",\n        }],\n [{\n            'v': 54,\n            'f': \"54\",\n        },\n{\n            'v': 3.17678,\n            'f': \"3.17678\",\n        },\n{\n            'v': 2683.55,\n            'f': \"2683.55\",\n        },\n{\n            'v': 2690.86,\n            'f': \"2690.86\",\n        },\n{\n            'v': 2.39999,\n            'f': \"2.39999\",\n        }],\n [{\n            'v': 55,\n            'f': \"55\",\n        },\n{\n            'v': 0.15312,\n            'f': \"0.15312\",\n        },\n{\n            'v': 2683.54,\n            'f': \"2683.54\",\n        },\n{\n            'v': 2690.89,\n            'f': \"2690.89\",\n        },\n{\n            'v': 3.25708,\n            'f': \"3.25708\",\n        }],\n [{\n            'v': 56,\n            'f': \"56\",\n        },\n{\n            'v': 0.77733,\n            'f': \"0.77733\",\n        },\n{\n            'v': 2683.51,\n            'f': \"2683.51\",\n        },\n{\n            'v': 2690.92,\n            'f': \"2690.92\",\n        },\n{\n            'v': 0.75,\n            'f': \"0.75\",\n        }],\n [{\n            'v': 57,\n            'f': \"57\",\n        },\n{\n            'v': 0.012,\n            'f': \"0.012\",\n        },\n{\n            'v': 2683.5,\n            'f': \"2683.5\",\n        },\n{\n            'v': 2690.93,\n            'f': \"2690.93\",\n        },\n{\n            'v': 2.01,\n            'f': \"2.01\",\n        }],\n [{\n            'v': 58,\n            'f': \"58\",\n        },\n{\n            'v': 3.0,\n            'f': \"3.0\",\n        },\n{\n            'v': 2683.47,\n            'f': \"2683.47\",\n        },\n{\n            'v': 2690.94,\n            'f': \"2690.94\",\n        },\n{\n            'v': 3.57765,\n            'f': \"3.57765\",\n        }],\n [{\n            'v': 59,\n            'f': \"59\",\n        },\n{\n            'v': 0.4,\n            'f': \"0.4\",\n        },\n{\n            'v': 2683.46,\n            'f': \"2683.46\",\n        },\n{\n            'v': 2690.97,\n            'f': \"2690.97\",\n        },\n{\n            'v': 3.01,\n            'f': \"3.01\",\n        }],\n [{\n            'v': 60,\n            'f': \"60\",\n        },\n{\n            'v': 3.35392,\n            'f': \"3.35392\",\n        },\n{\n            'v': 2683.43,\n            'f': \"2683.43\",\n        },\n{\n            'v': 2691.02,\n            'f': \"2691.02\",\n        },\n{\n            'v': 3.0,\n            'f': \"3.0\",\n        }],\n [{\n            'v': 61,\n            'f': \"61\",\n        },\n{\n            'v': 3.74844,\n            'f': \"3.74844\",\n        },\n{\n            'v': 2683.31,\n            'f': \"2683.31\",\n        },\n{\n            'v': 2691.11,\n            'f': \"2691.11\",\n        },\n{\n            'v': 0.46166,\n            'f': \"0.46166\",\n        }],\n [{\n            'v': 62,\n            'f': \"62\",\n        },\n{\n            'v': 0.77723,\n            'f': \"0.77723\",\n        },\n{\n            'v': 2683.3,\n            'f': \"2683.3\",\n        },\n{\n            'v': 2691.18,\n            'f': \"2691.18\",\n        },\n{\n            'v': 2.0,\n            'f': \"2.0\",\n        }],\n [{\n            'v': 63,\n            'f': \"63\",\n        },\n{\n            'v': 2.40065,\n            'f': \"2.40065\",\n        },\n{\n            'v': 2683.19,\n            'f': \"2683.19\",\n        },\n{\n            'v': 2691.19,\n            'f': \"2691.19\",\n        },\n{\n            'v': 0.23085,\n            'f': \"0.23085\",\n        }],\n [{\n            'v': 64,\n            'f': \"64\",\n        },\n{\n            'v': 4.87476,\n            'f': \"4.87476\",\n        },\n{\n            'v': 2683.18,\n            'f': \"2683.18\",\n        },\n{\n            'v': 2691.26,\n            'f': \"2691.26\",\n        },\n{\n            'v': 3.1,\n            'f': \"3.1\",\n        }],\n [{\n            'v': 65,\n            'f': \"65\",\n        },\n{\n            'v': 0.0039,\n            'f': \"0.0039\",\n        },\n{\n            'v': 2683.14,\n            'f': \"2683.14\",\n        },\n{\n            'v': 2691.29,\n            'f': \"2691.29\",\n        },\n{\n            'v': 2.39999,\n            'f': \"2.39999\",\n        }],\n [{\n            'v': 66,\n            'f': \"66\",\n        },\n{\n            'v': 1.04994,\n            'f': \"1.04994\",\n        },\n{\n            'v': 2683.13,\n            'f': \"2683.13\",\n        },\n{\n            'v': 2691.31,\n            'f': \"2691.31\",\n        },\n{\n            'v': 2.4,\n            'f': \"2.4\",\n        }],\n [{\n            'v': 67,\n            'f': \"67\",\n        },\n{\n            'v': 1.0,\n            'f': \"1.0\",\n        },\n{\n            'v': 2683.06,\n            'f': \"2683.06\",\n        },\n{\n            'v': 2691.32,\n            'f': \"2691.32\",\n        },\n{\n            'v': 2.0,\n            'f': \"2.0\",\n        }],\n [{\n            'v': 68,\n            'f': \"68\",\n        },\n{\n            'v': 0.30052,\n            'f': \"0.30052\",\n        },\n{\n            'v': 2683.01,\n            'f': \"2683.01\",\n        },\n{\n            'v': 2691.4,\n            'f': \"2691.4\",\n        },\n{\n            'v': 14.47697,\n            'f': \"14.47697\",\n        }],\n [{\n            'v': 69,\n            'f': \"69\",\n        },\n{\n            'v': 1.35897,\n            'f': \"1.35897\",\n        },\n{\n            'v': 2683.0,\n            'f': \"2683.0\",\n        },\n{\n            'v': 2691.49,\n            'f': \"2691.49\",\n        },\n{\n            'v': 3.0,\n            'f': \"3.0\",\n        }],\n [{\n            'v': 70,\n            'f': \"70\",\n        },\n{\n            'v': 0.4,\n            'f': \"0.4\",\n        },\n{\n            'v': 2682.84,\n            'f': \"2682.84\",\n        },\n{\n            'v': 2691.63,\n            'f': \"2691.63\",\n        },\n{\n            'v': 0.016,\n            'f': \"0.016\",\n        }],\n [{\n            'v': 71,\n            'f': \"71\",\n        },\n{\n            'v': 0.77742,\n            'f': \"0.77742\",\n        },\n{\n            'v': 2682.79,\n            'f': \"2682.79\",\n        },\n{\n            'v': 2691.68,\n            'f': \"2691.68\",\n        },\n{\n            'v': 2.1,\n            'f': \"2.1\",\n        }],\n [{\n            'v': 72,\n            'f': \"72\",\n        },\n{\n            'v': 0.23094,\n            'f': \"0.23094\",\n        },\n{\n            'v': 2682.74,\n            'f': \"2682.74\",\n        },\n{\n            'v': 2691.71,\n            'f': \"2691.71\",\n        },\n{\n            'v': 11.99999,\n            'f': \"11.99999\",\n        }],\n [{\n            'v': 73,\n            'f': \"73\",\n        },\n{\n            'v': 2.39999,\n            'f': \"2.39999\",\n        },\n{\n            'v': 2682.73,\n            'f': \"2682.73\",\n        },\n{\n            'v': 2691.76,\n            'f': \"2691.76\",\n        },\n{\n            'v': 10.0,\n            'f': \"10.0\",\n        }],\n [{\n            'v': 74,\n            'f': \"74\",\n        },\n{\n            'v': 0.11348,\n            'f': \"0.11348\",\n        },\n{\n            'v': 2682.72,\n            'f': \"2682.72\",\n        },\n{\n            'v': 2691.81,\n            'f': \"2691.81\",\n        },\n{\n            'v': 10.34348,\n            'f': \"10.34348\",\n        }],\n [{\n            'v': 75,\n            'f': \"75\",\n        },\n{\n            'v': 0.03868,\n            'f': \"0.03868\",\n        },\n{\n            'v': 2682.65,\n            'f': \"2682.65\",\n        },\n{\n            'v': 2691.98,\n            'f': \"2691.98\",\n        },\n{\n            'v': 1.91472,\n            'f': \"1.91472\",\n        }],\n [{\n            'v': 76,\n            'f': \"76\",\n        },\n{\n            'v': 0.0156,\n            'f': \"0.0156\",\n        },\n{\n            'v': 2682.63,\n            'f': \"2682.63\",\n        },\n{\n            'v': 2691.99,\n            'f': \"2691.99\",\n        },\n{\n            'v': 3.0,\n            'f': \"3.0\",\n        }],\n [{\n            'v': 77,\n            'f': \"77\",\n        },\n{\n            'v': 0.01119,\n            'f': \"0.01119\",\n        },\n{\n            'v': 2682.62,\n            'f': \"2682.62\",\n        },\n{\n            'v': 2692.0,\n            'f': \"2692.0\",\n        },\n{\n            'v': 1.76822,\n            'f': \"1.76822\",\n        }],\n [{\n            'v': 78,\n            'f': \"78\",\n        },\n{\n            'v': 1.52303,\n            'f': \"1.52303\",\n        },\n{\n            'v': 2682.59,\n            'f': \"2682.59\",\n        },\n{\n            'v': 2692.11,\n            'f': \"2692.11\",\n        },\n{\n            'v': 11.99999,\n            'f': \"11.99999\",\n        }],\n [{\n            'v': 79,\n            'f': \"79\",\n        },\n{\n            'v': 2.56328,\n            'f': \"2.56328\",\n        },\n{\n            'v': 2682.53,\n            'f': \"2682.53\",\n        },\n{\n            'v': 2692.18,\n            'f': \"2692.18\",\n        },\n{\n            'v': 3.81046,\n            'f': \"3.81046\",\n        }],\n [{\n            'v': 80,\n            'f': \"80\",\n        },\n{\n            'v': 0.56186,\n            'f': \"0.56186\",\n        },\n{\n            'v': 2682.49,\n            'f': \"2682.49\",\n        },\n{\n            'v': 2692.27,\n            'f': \"2692.27\",\n        },\n{\n            'v': 2.0,\n            'f': \"2.0\",\n        }],\n [{\n            'v': 81,\n            'f': \"81\",\n        },\n{\n            'v': 3.68082,\n            'f': \"3.68082\",\n        },\n{\n            'v': 2682.45,\n            'f': \"2682.45\",\n        },\n{\n            'v': 2692.33,\n            'f': \"2692.33\",\n        },\n{\n            'v': 2.0,\n            'f': \"2.0\",\n        }],\n [{\n            'v': 82,\n            'f': \"82\",\n        },\n{\n            'v': 0.00559,\n            'f': \"0.00559\",\n        },\n{\n            'v': 2682.42,\n            'f': \"2682.42\",\n        },\n{\n            'v': 2692.38,\n            'f': \"2692.38\",\n        },\n{\n            'v': 9.56,\n            'f': \"9.56\",\n        }],\n [{\n            'v': 83,\n            'f': \"83\",\n        },\n{\n            'v': 2.0,\n            'f': \"2.0\",\n        },\n{\n            'v': 2682.38,\n            'f': \"2682.38\",\n        },\n{\n            'v': 2692.42,\n            'f': \"2692.42\",\n        },\n{\n            'v': 3.0,\n            'f': \"3.0\",\n        }],\n [{\n            'v': 84,\n            'f': \"84\",\n        },\n{\n            'v': 0.5,\n            'f': \"0.5\",\n        },\n{\n            'v': 2682.36,\n            'f': \"2682.36\",\n        },\n{\n            'v': 2692.44,\n            'f': \"2692.44\",\n        },\n{\n            'v': 2.12336,\n            'f': \"2.12336\",\n        }],\n [{\n            'v': 85,\n            'f': \"85\",\n        },\n{\n            'v': 3.5,\n            'f': \"3.5\",\n        },\n{\n            'v': 2682.35,\n            'f': \"2682.35\",\n        },\n{\n            'v': 2692.5,\n            'f': \"2692.5\",\n        },\n{\n            'v': 0.33894,\n            'f': \"0.33894\",\n        }],\n [{\n            'v': 86,\n            'f': \"86\",\n        },\n{\n            'v': 0.005,\n            'f': \"0.005\",\n        },\n{\n            'v': 2682.34,\n            'f': \"2682.34\",\n        },\n{\n            'v': 2692.54,\n            'f': \"2692.54\",\n        },\n{\n            'v': 2.0,\n            'f': \"2.0\",\n        }],\n [{\n            'v': 87,\n            'f': \"87\",\n        },\n{\n            'v': 2.39999,\n            'f': \"2.39999\",\n        },\n{\n            'v': 2682.29,\n            'f': \"2682.29\",\n        },\n{\n            'v': 2692.66,\n            'f': \"2692.66\",\n        },\n{\n            'v': 9.91935,\n            'f': \"9.91935\",\n        }],\n [{\n            'v': 88,\n            'f': \"88\",\n        },\n{\n            'v': 3.0,\n            'f': \"3.0\",\n        },\n{\n            'v': 2682.25,\n            'f': \"2682.25\",\n        },\n{\n            'v': 2692.7,\n            'f': \"2692.7\",\n        },\n{\n            'v': 3.05,\n            'f': \"3.05\",\n        }],\n [{\n            'v': 89,\n            'f': \"89\",\n        },\n{\n            'v': 3.0,\n            'f': \"3.0\",\n        },\n{\n            'v': 2682.22,\n            'f': \"2682.22\",\n        },\n{\n            'v': 2692.74,\n            'f': \"2692.74\",\n        },\n{\n            'v': 6.5,\n            'f': \"6.5\",\n        }],\n [{\n            'v': 90,\n            'f': \"90\",\n        },\n{\n            'v': 0.2,\n            'f': \"0.2\",\n        },\n{\n            'v': 2682.18,\n            'f': \"2682.18\",\n        },\n{\n            'v': 2692.82,\n            'f': \"2692.82\",\n        },\n{\n            'v': 2.0,\n            'f': \"2.0\",\n        }],\n [{\n            'v': 91,\n            'f': \"91\",\n        },\n{\n            'v': 0.01106,\n            'f': \"0.01106\",\n        },\n{\n            'v': 2682.14,\n            'f': \"2682.14\",\n        },\n{\n            'v': 2692.85,\n            'f': \"2692.85\",\n        },\n{\n            'v': 0.01106,\n            'f': \"0.01106\",\n        }],\n [{\n            'v': 92,\n            'f': \"92\",\n        },\n{\n            'v': 0.01937,\n            'f': \"0.01937\",\n        },\n{\n            'v': 2682.12,\n            'f': \"2682.12\",\n        },\n{\n            'v': 2692.97,\n            'f': \"2692.97\",\n        },\n{\n            'v': 2.1,\n            'f': \"2.1\",\n        }],\n [{\n            'v': 93,\n            'f': \"93\",\n        },\n{\n            'v': 7.25317,\n            'f': \"7.25317\",\n        },\n{\n            'v': 2682.1,\n            'f': \"2682.1\",\n        },\n{\n            'v': 2693.0,\n            'f': \"2693.0\",\n        },\n{\n            'v': 12.12826,\n            'f': \"12.12826\",\n        }],\n [{\n            'v': 94,\n            'f': \"94\",\n        },\n{\n            'v': 0.051,\n            'f': \"0.051\",\n        },\n{\n            'v': 2682.05,\n            'f': \"2682.05\",\n        },\n{\n            'v': 2693.02,\n            'f': \"2693.02\",\n        },\n{\n            'v': 1.32291,\n            'f': \"1.32291\",\n        }],\n [{\n            'v': 95,\n            'f': \"95\",\n        },\n{\n            'v': 0.70473,\n            'f': \"0.70473\",\n        },\n{\n            'v': 2682.0,\n            'f': \"2682.0\",\n        },\n{\n            'v': 2693.06,\n            'f': \"2693.06\",\n        },\n{\n            'v': 0.0555,\n            'f': \"0.0555\",\n        }],\n [{\n            'v': 96,\n            'f': \"96\",\n        },\n{\n            'v': 1.0,\n            'f': \"1.0\",\n        },\n{\n            'v': 2681.98,\n            'f': \"2681.98\",\n        },\n{\n            'v': 2693.26,\n            'f': \"2693.26\",\n        },\n{\n            'v': 3.82519,\n            'f': \"3.82519\",\n        }],\n [{\n            'v': 97,\n            'f': \"97\",\n        },\n{\n            'v': 0.07,\n            'f': \"0.07\",\n        },\n{\n            'v': 2681.92,\n            'f': \"2681.92\",\n        },\n{\n            'v': 2693.28,\n            'f': \"2693.28\",\n        },\n{\n            'v': 4.0,\n            'f': \"4.0\",\n        }],\n [{\n            'v': 98,\n            'f': \"98\",\n        },\n{\n            'v': 0.2,\n            'f': \"0.2\",\n        },\n{\n            'v': 2681.91,\n            'f': \"2681.91\",\n        },\n{\n            'v': 2693.31,\n            'f': \"2693.31\",\n        },\n{\n            'v': 2.0,\n            'f': \"2.0\",\n        }],\n [{\n            'v': 99,\n            'f': \"99\",\n        },\n{\n            'v': 2.28926,\n            'f': \"2.28926\",\n        },\n{\n            'v': 2681.89,\n            'f': \"2681.89\",\n        },\n{\n            'v': 2693.34,\n            'f': \"2693.34\",\n        },\n{\n            'v': 2.0,\n            'f': \"2.0\",\n        }]],\n        columns: [[\"number\", \"index\"], [\"number\", \"quantity_bid\"], [\"number\", \"price_bid\"], [\"number\", \"price_ask\"], [\"number\", \"quantity_ask\"]],\n        columnOptions: [{\"width\": \"1px\", \"className\": \"index_column\"}],\n        rowsPerPage: 10,\n        helpUrl: \"https://colab.research.google.com/notebooks/data_table.ipynb\",\n        suppressOutputScrolling: true,\n        minimumWidth: \"700px\",\n      });\n    ",
            "text/plain": [
              "<google.colab.data_table.DataTable object>"
            ],
            "text/html": [
              "<div>\n",
              "<style scoped>\n",
              "    .dataframe tbody tr th:only-of-type {\n",
              "        vertical-align: middle;\n",
              "    }\n",
              "\n",
              "    .dataframe tbody tr th {\n",
              "        vertical-align: top;\n",
              "    }\n",
              "\n",
              "    .dataframe thead th {\n",
              "        text-align: right;\n",
              "    }\n",
              "</style>\n",
              "<table border=\"1\" class=\"dataframe\">\n",
              "  <thead>\n",
              "    <tr style=\"text-align: right;\">\n",
              "      <th></th>\n",
              "      <th>quantity_bid</th>\n",
              "      <th>price_bid</th>\n",
              "      <th>price_ask</th>\n",
              "      <th>quantity_ask</th>\n",
              "    </tr>\n",
              "  </thead>\n",
              "  <tbody>\n",
              "    <tr>\n",
              "      <th>0</th>\n",
              "      <td>25.69968</td>\n",
              "      <td>2687.13</td>\n",
              "      <td>2687.14</td>\n",
              "      <td>0.01600</td>\n",
              "    </tr>\n",
              "    <tr>\n",
              "      <th>1</th>\n",
              "      <td>0.51932</td>\n",
              "      <td>2686.85</td>\n",
              "      <td>2687.53</td>\n",
              "      <td>1.11643</td>\n",
              "    </tr>\n",
              "    <tr>\n",
              "      <th>2</th>\n",
              "      <td>2.37207</td>\n",
              "      <td>2686.84</td>\n",
              "      <td>2687.54</td>\n",
              "      <td>0.40000</td>\n",
              "    </tr>\n",
              "    <tr>\n",
              "      <th>3</th>\n",
              "      <td>1.11643</td>\n",
              "      <td>2686.83</td>\n",
              "      <td>2687.66</td>\n",
              "      <td>0.30606</td>\n",
              "    </tr>\n",
              "    <tr>\n",
              "      <th>4</th>\n",
              "      <td>2.79073</td>\n",
              "      <td>2686.79</td>\n",
              "      <td>2687.67</td>\n",
              "      <td>0.58298</td>\n",
              "    </tr>\n",
              "    <tr>\n",
              "      <th>...</th>\n",
              "      <td>...</td>\n",
              "      <td>...</td>\n",
              "      <td>...</td>\n",
              "      <td>...</td>\n",
              "    </tr>\n",
              "    <tr>\n",
              "      <th>95</th>\n",
              "      <td>0.70473</td>\n",
              "      <td>2682.00</td>\n",
              "      <td>2693.06</td>\n",
              "      <td>0.05550</td>\n",
              "    </tr>\n",
              "    <tr>\n",
              "      <th>96</th>\n",
              "      <td>1.00000</td>\n",
              "      <td>2681.98</td>\n",
              "      <td>2693.26</td>\n",
              "      <td>3.82519</td>\n",
              "    </tr>\n",
              "    <tr>\n",
              "      <th>97</th>\n",
              "      <td>0.07000</td>\n",
              "      <td>2681.92</td>\n",
              "      <td>2693.28</td>\n",
              "      <td>4.00000</td>\n",
              "    </tr>\n",
              "    <tr>\n",
              "      <th>98</th>\n",
              "      <td>0.20000</td>\n",
              "      <td>2681.91</td>\n",
              "      <td>2693.31</td>\n",
              "      <td>2.00000</td>\n",
              "    </tr>\n",
              "    <tr>\n",
              "      <th>99</th>\n",
              "      <td>2.28926</td>\n",
              "      <td>2681.89</td>\n",
              "      <td>2693.34</td>\n",
              "      <td>2.00000</td>\n",
              "    </tr>\n",
              "  </tbody>\n",
              "</table>\n",
              "<p>100 rows × 4 columns</p>\n",
              "</div>"
            ]
          },
          "metadata": {
            "tags": []
          },
          "execution_count": 23
        }
      ]
    },
    {
      "cell_type": "markdown",
      "metadata": {
        "id": "Qe7Kd2piyaLI"
      },
      "source": [
        "### Top of the Order Book\n",
        "\n",
        "With the structure of the order book in descending bid prices and ascending ask prices, the prices of the most recent trades will be somewhere between the maximum bid price and the minimum asking price. This first section is known as the _top of the order book_. In here, it is often indicated the difference between these two price leves which is known as the _bid-ask spread_, that also measures the market efficiency."
      ]
    },
    {
      "cell_type": "code",
      "metadata": {
        "colab": {
          "base_uri": "https://localhost:8080/"
        },
        "id": "dM9qGBt4hDU7",
        "outputId": "31e09629-0ff1-46a1-b459-6b35c3083b36"
      },
      "source": [
        "# Best Bid & Ask Prices\n",
        "\n",
        "frames[\"bids\"].price.max()\n",
        "frames[\"asks\"].price.min()"
      ],
      "execution_count": 24,
      "outputs": [
        {
          "output_type": "execute_result",
          "data": {
            "text/plain": [
              "2687.14"
            ]
          },
          "metadata": {
            "tags": []
          },
          "execution_count": 24
        }
      ]
    },
    {
      "cell_type": "markdown",
      "metadata": {
        "id": "RZX3CJozhKpq"
      },
      "source": [
        "We can also get this information from the ```/ticker/bookTicker``` endpoint:"
      ]
    },
    {
      "cell_type": "code",
      "metadata": {
        "id": "AWKnX9JqhZFr"
      },
      "source": [
        "r = requests.get(\"https://api.binance.com/api/v3/ticker/bookTicker\", params=dict(symbol=\"ETHBUSD\"))\n",
        "book_top = r.json()\n"
      ],
      "execution_count": 25,
      "outputs": []
    },
    {
      "cell_type": "markdown",
      "metadata": {
        "id": "YrfFeaNrhcfT"
      },
      "source": [
        "We proceed to read this into a Pandas Series and render as a Markdown table:"
      ]
    },
    {
      "cell_type": "code",
      "metadata": {
        "colab": {
          "base_uri": "https://localhost:8080/",
          "height": 166
        },
        "id": "PA9wSN4WEcGP",
        "outputId": "f2ecd845-0dfb-46ce-df8c-2b86dcf4e181"
      },
      "source": [
        "name = book_top.pop(\"symbol\")  # get symbol and also delete at the same time\n",
        "s = pd.Series(book_top, name=name, dtype=float)\n",
        "\n",
        "pd.DataFrame(s)\n",
        "\n"
      ],
      "execution_count": 26,
      "outputs": [
        {
          "output_type": "execute_result",
          "data": {
            "text/html": [
              "<div>\n",
              "<style scoped>\n",
              "    .dataframe tbody tr th:only-of-type {\n",
              "        vertical-align: middle;\n",
              "    }\n",
              "\n",
              "    .dataframe tbody tr th {\n",
              "        vertical-align: top;\n",
              "    }\n",
              "\n",
              "    .dataframe thead th {\n",
              "        text-align: right;\n",
              "    }\n",
              "</style>\n",
              "<table border=\"1\" class=\"dataframe\">\n",
              "  <thead>\n",
              "    <tr style=\"text-align: right;\">\n",
              "      <th></th>\n",
              "      <th>ETHBUSD</th>\n",
              "    </tr>\n",
              "  </thead>\n",
              "  <tbody>\n",
              "    <tr>\n",
              "      <th>bidPrice</th>\n",
              "      <td>2687.13000</td>\n",
              "    </tr>\n",
              "    <tr>\n",
              "      <th>bidQty</th>\n",
              "      <td>21.69968</td>\n",
              "    </tr>\n",
              "    <tr>\n",
              "      <th>askPrice</th>\n",
              "      <td>2687.14000</td>\n",
              "    </tr>\n",
              "    <tr>\n",
              "      <th>askQty</th>\n",
              "      <td>0.68800</td>\n",
              "    </tr>\n",
              "  </tbody>\n",
              "</table>\n",
              "</div>"
            ],
            "text/plain": [
              "             ETHBUSD\n",
              "bidPrice  2687.13000\n",
              "bidQty      21.69968\n",
              "askPrice  2687.14000\n",
              "askQty       0.68800"
            ]
          },
          "metadata": {
            "tags": []
          },
          "execution_count": 26
        }
      ]
    },
    {
      "cell_type": "markdown",
      "metadata": {
        "id": "twwnmAqxh-W9"
      },
      "source": [
        "### Visualize the Order Book with a Scatter Plot\n",
        "\n",
        "To better understand the structure of the order book, we can visualize all its entries using a scatter plot. Where prices are indicated along the x-axis and quantities in along the y-axis. In the presented code, the _hue_ argument indicates how to group the variables, whether the entry is an _ask_ or a _bid_."
      ]
    },
    {
      "cell_type": "code",
      "metadata": {
        "colab": {
          "base_uri": "https://localhost:8080/",
          "height": 295
        },
        "id": "RZdz4tUEEuoF",
        "outputId": "6ca556be-831d-4fd7-bd45-9e0f1d13bf6e"
      },
      "source": [
        "# Scatter plot: Order Book\n",
        "\n",
        "fig, ax = plt.subplots()\n",
        "\n",
        "ax.set_title(f\"Last update: {dt_string}\")\n",
        "\n",
        "sns.scatterplot(x=\"price\", y=\"quantity\", hue=\"side\", data=data, ax=ax)\n",
        "\n",
        "ax.set_xlabel(\"Price\")\n",
        "ax.set_ylabel(\"Quantity\")\n",
        "\n",
        "plt.show()"
      ],
      "execution_count": 27,
      "outputs": [
        {
          "output_type": "display_data",
          "data": {
            "image/png": "[encoded data removed]",
            "text/plain": [
              "<Figure size 432x288 with 1 Axes>"
            ]
          },
          "metadata": {
            "tags": [],
            "needs_background": "light"
          }
        }
      ]
    },
    {
      "cell_type": "markdown",
      "metadata": {
        "id": "wxcw5SUSjZ8P"
      },
      "source": [
        "This is the most verbose visualization, displaying all the raw information, but perhaps also providing the least amount of actionable insights."
      ]
    },
    {
      "cell_type": "markdown",
      "metadata": {
        "id": "lxyHicvcjc0c"
      },
      "source": [
        "### Histogram of the Order Book\n",
        "\n",
        "The information can be compress into a histogram plot to have a better sense of the overall data."
      ]
    },
    {
      "cell_type": "code",
      "metadata": {
        "colab": {
          "base_uri": "https://localhost:8080/",
          "height": 295
        },
        "id": "s0IEoU9BEx7o",
        "outputId": "2bbd9198-0909-49c7-adbf-b0afc1d571f1"
      },
      "source": [
        "# Histogram plot\n",
        "\n",
        "fig, ax = plt.subplots()\n",
        "\n",
        "ax.set_title(f\"Last update: {dt_string}\")\n",
        "\n",
        "sns.histplot(x=\"price\", hue=\"side\", bins= 12,  data=data, ax=ax)\n",
        "sns.rugplot(x=\"price\", hue=\"side\", data=data, ax=ax)\n",
        "\n",
        "plt.show()"
      ],
      "execution_count": 28,
      "outputs": [
        {
          "output_type": "display_data",
          "data": {
            "image/png": "[encoded data removed]",
            "text/plain": [
              "<Figure size 432x288 with 1 Axes>"
            ]
          },
          "metadata": {
            "tags": [],
            "needs_background": "light"
          }
        }
      ]
    },
    {
      "cell_type": "markdown",
      "metadata": {
        "id": "9HW4ptzQrPyQ"
      },
      "source": [
        "While this allow us to visualize the number and concentrancion of the bid and asks it only counts the entries for each price under the specific _side_ of the market. It lacks the ability to take into consideration the volume of such entry. This creates a misleading picture since entries are categorized as equal. One entry at $p_1$ and one entry at $p_2$ are counted the same, no matter if the first entry was for 100 ETH and the secon at 4."
      ]
    },
    {
      "cell_type": "markdown",
      "metadata": {
        "id": "bO-q4hFYjvI8"
      },
      "source": [
        "### Weighted Histogram Plot"
      ]
    },
    {
      "cell_type": "markdown",
      "metadata": {
        "id": "FJcJ7VbusSf_"
      },
      "source": [
        "A solution to the misleading picture of the overall histogram is to incorporate the quantities as weights to the histogram. This can simply be done by icluding the argument _weights_  as ```weights = \"quantity\"```, as follows:"
      ]
    },
    {
      "cell_type": "code",
      "metadata": {
        "colab": {
          "base_uri": "https://localhost:8080/",
          "height": 295
        },
        "id": "J966cKP2E1Rf",
        "outputId": "9f146743-c712-4dc1-f974-7eb590cb743d"
      },
      "source": [
        "# Weighted histogram plot\n",
        "\n",
        "fig, ax = plt.subplots()\n",
        "\n",
        "ax.set_title(f\"Last update: {dt_string}\")\n",
        "\n",
        "sns.histplot(x=\"price\", weights=\"quantity\", hue=\"side\", bins= 12, data=data, ax=ax)\n",
        "sns.scatterplot(x=\"price\", y=\"quantity\", hue=\"side\", data=data, ax=ax)\n",
        "\n",
        "ax.set_xlabel(\"Price\")\n",
        "ax.set_ylabel(\"Quantity\")\n",
        "\n",
        "plt.show()"
      ],
      "execution_count": 29,
      "outputs": [
        {
          "output_type": "display_data",
          "data": {
            "image/png": "[encoded data removed]",
            "text/plain": [
              "<Figure size 432x288 with 1 Axes>"
            ]
          },
          "metadata": {
            "tags": [],
            "needs_background": "light"
          }
        }
      ]
    },
    {
      "cell_type": "markdown",
      "metadata": {
        "id": "Ef_OAXBusxPk"
      },
      "source": [
        "With this modification a more accurate picture about demand ad supply can be observed. Nevertheless, it still offers limited actionable insights.\n",
        "\n",
        "A limitation lies in the question of what is the minimun price that would you need to bid so that you secure that your bid at quantity $x$ is guaranteed to be filled. To obtain this information, you need to take the cumulative sum of the _quantity_ with the associated prices in _ascending_ order. \n",
        "\n",
        "Conversely, if you wanted to work out at what price you should be asking for so that your sale is guaranteed to be filled, you need to do the same, but with the prices in _descending_ order."
      ]
    },
    {
      "cell_type": "markdown",
      "metadata": {
        "id": "T9OAJ64ej2Nj"
      },
      "source": [
        "### Depth Chart: Weighted empirical CDF (ECDF) plot\n",
        "\n",
        "The depth chart is essentially just a combination of two empirical cumulative distribution function or ECDF plots. With this transformation we can solve for the limitation of the previous plot.\n",
        "\n",
        "More precisely, these distributions are weighted and unnormalized ECDF plots. As before, they are weighted by the quantity and are unnormalized in the sense that they are not proportions between. Rather, they are simply kept as counts. Additionally, in the case of bids, we take the complementary ECDF (which basically reverses the order in which the cumulative sum is taken).\n",
        "\n",
        "In code, this amounts to making calls to ```sns.ecdfplot``` with the options ```weights=\"quantity\"``` and ```stat=\"count\"``` (to keep the plot unnormalized)8. Finally, for the bids, we add the option ```complementary=True```. Putting it all together:"
      ]
    },
    {
      "cell_type": "code",
      "metadata": {
        "colab": {
          "base_uri": "https://localhost:8080/",
          "height": 295
        },
        "id": "O1bTQFFAE5Jx",
        "outputId": "d619d70c-20d6-455a-a63e-4a0677c4e461"
      },
      "source": [
        "# Weighted empirical CDF (ECDF) plot – aka the “Depth Chart”\n",
        "\n",
        "fig, ax = plt.subplots()\n",
        "\n",
        "ax.set_title(f\"Last update: {dt_string}\")\n",
        "\n",
        "sns.ecdfplot(x=\"price\", weights=\"quantity\", stat=\"count\", complementary=True, data=frames[\"bids\"], ax=ax)\n",
        "sns.ecdfplot(x=\"price\", weights=\"quantity\", stat=\"count\", data=frames[\"asks\"], ax=ax)\n",
        "sns.scatterplot(x=\"price\", y=\"quantity\", hue=\"side\", data=data, ax=ax)\n",
        "\n",
        "ax.set_xlabel(\"Price\")\n",
        "ax.set_ylabel(\"Quantity\")\n",
        "\n",
        "plt.show()"
      ],
      "execution_count": 30,
      "outputs": [
        {
          "output_type": "display_data",
          "data": {
            "image/png": "[encoded data removed]",
            "text/plain": [
              "<Figure size 432x288 with 1 Axes>"
            ]
          },
          "metadata": {
            "tags": [],
            "needs_background": "light"
          }
        }
      ]
    },
    {
      "cell_type": "markdown",
      "metadata": {
        "id": "HL7tLFsAOuRL"
      },
      "source": [
        "With this chart we can walk along the respective curves and understand at wich price our buy or sell would be satisfied by the matching engine at an instant. If we want to sell $x$ quantity of the asset we look at the vertical axis and find the point in the bid curve to find the necesary price level. For a case of buying $x$ quantity the same process applies but by loking at the ask curve."
      ]
    },
    {
      "cell_type": "markdown",
      "metadata": {
        "id": "t2gFSDm_7eC-"
      },
      "source": [
        "### Notional Volume Weighted Average Price\n",
        "\n",
        "An adequate methodologies to analyse and extract limit order book information content and the adequate use of this information for optimal trading strategies design is the proposed a measure of market impact that consists on the Volume Weighted Average Price (VWAP) over a trading day. In order words, for the same time $t$ we have that: \n",
        "\n",
        "$ NVWAP_i=\\frac {\\sum_{j=0}^{i} P_j \\times Vol_j}{\\sum_{j=0}^{i} Vol_j}$\n",
        "\n",
        "Where $P_j$ and $Vol_j$ are the price and volume for entry $j$ in the order book. Which is done independently for the Bid side and the Ask side. \n",
        "\n",
        "Based on this measure we can have a quantitative framework to measure the change in the shape of empirical liquidity supply and demand curve of the market.\n"
      ]
    },
    {
      "cell_type": "markdown",
      "metadata": {
        "id": "fOCu9cMqbkTQ"
      },
      "source": [
        "To better understand the transformation we can plot these new measures. We first realize the necesary transformations."
      ]
    },
    {
      "cell_type": "code",
      "metadata": {
        "id": "lLbCYB2Q7JF_"
      },
      "source": [
        "# Create the Notional Volume Weighted Average Price (NVWAP)\n",
        "\n",
        "cumVol_bid = np.cumsum(data[data['side'] == 'bids']['quantity'])\n",
        "cumVal_bid = np.cumsum(data[data['side'] == 'bids']['price'].multiply(data[data['side'] == 'bids']['quantity']))\n",
        "nvwap_bid = cumVal_bid.divide(cumVol_bid)\n",
        "cumVol_ask = np.cumsum(data[data['side'] == 'asks']['quantity'])\n",
        "cumVal_ask = np.cumsum(data[data['side'] == 'asks']['price'].multiply(data[data['side'] == 'asks']['quantity']))\n",
        "nvwap_ask = cumVal_ask.divide(cumVol_ask)\n"
      ],
      "execution_count": 31,
      "outputs": []
    },
    {
      "cell_type": "markdown",
      "metadata": {
        "id": "RyhtU2VP9c9t"
      },
      "source": [
        "Then we proceed to graph the NVWAP curves for the bid and ask sides of the market."
      ]
    },
    {
      "cell_type": "code",
      "metadata": {
        "colab": {
          "base_uri": "https://localhost:8080/",
          "height": 295
        },
        "id": "v0FEuTp6YATE",
        "outputId": "a03861eb-c501-4234-f537-ec4cd9cfc568"
      },
      "source": [
        "# Plot the NVWAP\n",
        "\n",
        "plt.plot(cumVol_bid, nvwap_bid)\n",
        "plt.plot(cumVol_ask, nvwap_ask, color = 'red')\n",
        "plt.xlabel(\"Cumulative Volume\")\n",
        "plt.ylabel(\"NVWAP\")\n",
        "plt.legend(['bids', 'asks'])\n",
        "plt.title(f\"Last update: {dt_string}\")\n",
        "plt.show()"
      ],
      "execution_count": 32,
      "outputs": [
        {
          "output_type": "display_data",
          "data": {
            "image/png": "[encoded data removed]",
            "text/plain": [
              "<Figure size 432x288 with 1 Axes>"
            ]
          },
          "metadata": {
            "tags": [],
            "needs_background": "light"
          }
        }
      ]
    },
    {
      "cell_type": "markdown",
      "metadata": {
        "id": "5hsxsBWRb7jD"
      },
      "source": [
        "With this transformation we can observe how the slope and size of the cuvrve chances and thus, allows to understand whether the market forces will indicate a rise or fall in the price. Esencially, we are looking at a truncated Demand and Supply curve, which are shown at the availabe unit after the point where both curves cut, the _mid-price_.\n",
        "\n",
        "Both the _Depth Chart_ and the _NVWAP Curves_ are complementary tools to better understand any financial market. They allow to gain more in depth insights and improve the decision making process. It would be usefull to further explore the derived insights by looking at machine learning techinques that can capitilize on this information and better predict price movements and the shape of the market in the near future."
      ]
    }
  ]
}